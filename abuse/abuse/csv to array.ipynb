{
 "cells": [
  {
   "cell_type": "code",
   "execution_count": 2,
   "metadata": {},
   "outputs": [],
   "source": [
    "import pandas as pd"
   ]
  },
  {
   "cell_type": "code",
   "execution_count": 3,
   "metadata": {},
   "outputs": [],
   "source": [
    "keys = pd.read_csv('keys_reduced.csv', delimiter = ',')"
   ]
  },
  {
   "cell_type": "code",
   "execution_count": 4,
   "metadata": {},
   "outputs": [
    {
     "data": {
      "text/html": [
       "<div>\n",
       "<style scoped>\n",
       "    .dataframe tbody tr th:only-of-type {\n",
       "        vertical-align: middle;\n",
       "    }\n",
       "\n",
       "    .dataframe tbody tr th {\n",
       "        vertical-align: top;\n",
       "    }\n",
       "\n",
       "    .dataframe thead th {\n",
       "        text-align: right;\n",
       "    }\n",
       "</style>\n",
       "<table border=\"1\" class=\"dataframe\">\n",
       "  <thead>\n",
       "    <tr style=\"text-align: right;\">\n",
       "      <th></th>\n",
       "      <th>key</th>\n",
       "    </tr>\n",
       "  </thead>\n",
       "  <tbody>\n",
       "    <tr>\n",
       "      <th>0</th>\n",
       "      <td>1Pq7t8mGwR9X7P2q1gLzpsJ9odu2wkBmgk</td>\n",
       "    </tr>\n",
       "    <tr>\n",
       "      <th>1</th>\n",
       "      <td>15pY2U8WBZBJRVxGhh8WRXsdkXQbMKD8k9</td>\n",
       "    </tr>\n",
       "    <tr>\n",
       "      <th>2</th>\n",
       "      <td>15qfZoJNVyhZPUpBzwB5nMctkF39WPGaNL</td>\n",
       "    </tr>\n",
       "    <tr>\n",
       "      <th>3</th>\n",
       "      <td>1KRaa1YfDgZfCqHPJBkYmTNZ478zXNxuG</td>\n",
       "    </tr>\n",
       "    <tr>\n",
       "      <th>4</th>\n",
       "      <td>1EvPDEGNwWwmPh7Vjf8ronLrhxfKE9y3qo</td>\n",
       "    </tr>\n",
       "    <tr>\n",
       "      <th>5</th>\n",
       "      <td>1AHKTCF9pofAUs2WKmV28U1g5Zt6yW4HsX</td>\n",
       "    </tr>\n",
       "    <tr>\n",
       "      <th>6</th>\n",
       "      <td>196rmNRAWQTFs4uftwcT35UeoZZgY7V4WN</td>\n",
       "    </tr>\n",
       "    <tr>\n",
       "      <th>7</th>\n",
       "      <td>1L169s9Wv3LXYYpdoJJDDj4sGKURd7gwNZ</td>\n",
       "    </tr>\n",
       "    <tr>\n",
       "      <th>8</th>\n",
       "      <td>1o7G7bVR9zPF7v4z9HFFL2wcpFZ6CDCQY</td>\n",
       "    </tr>\n",
       "    <tr>\n",
       "      <th>9</th>\n",
       "      <td>19Zg5K8AEX2bctwpvhbBrJGY3pA1G4Vzzi</td>\n",
       "    </tr>\n",
       "    <tr>\n",
       "      <th>10</th>\n",
       "      <td>153K4fcAFxvmSaDVLM3C3ZTFq3syKRefJT</td>\n",
       "    </tr>\n",
       "    <tr>\n",
       "      <th>11</th>\n",
       "      <td>1D5n46UJYgAQgx2y8qUvzqZ1vQYCUZQZ5E</td>\n",
       "    </tr>\n",
       "    <tr>\n",
       "      <th>12</th>\n",
       "      <td>1Php8sSnN23b8yB2LeofiF9d7exCQMRofF</td>\n",
       "    </tr>\n",
       "    <tr>\n",
       "      <th>13</th>\n",
       "      <td>1LbAUcqtZ2pRDguJ9J4tfEN9g5p9wyPdKv</td>\n",
       "    </tr>\n",
       "    <tr>\n",
       "      <th>14</th>\n",
       "      <td>15tBzLEf2rMpPZt173nRvNNDmBFKf7KHLk</td>\n",
       "    </tr>\n",
       "    <tr>\n",
       "      <th>15</th>\n",
       "      <td>1Mq1LwDywpGDyyBc8EPwY4ZtF5r6aZFyB2</td>\n",
       "    </tr>\n",
       "    <tr>\n",
       "      <th>16</th>\n",
       "      <td>1QBHcpX8AweM8SFmzz5b5sahCf6GohssW1</td>\n",
       "    </tr>\n",
       "    <tr>\n",
       "      <th>17</th>\n",
       "      <td>1LL1JM5zPyUGSEx8zuihapmr6Uj4F63qdy</td>\n",
       "    </tr>\n",
       "    <tr>\n",
       "      <th>18</th>\n",
       "      <td>1Q4tbmD7xGqUUD7ed6PsVEP3FppsbJLjdK</td>\n",
       "    </tr>\n",
       "    <tr>\n",
       "      <th>19</th>\n",
       "      <td>125dxEBuAwfo5CaR7vjTDCdQ2UMUgWzZ3S</td>\n",
       "    </tr>\n",
       "    <tr>\n",
       "      <th>20</th>\n",
       "      <td>1NLLX6yosmGoWM5G44YFzQF9W1bkMZT6XN</td>\n",
       "    </tr>\n",
       "    <tr>\n",
       "      <th>21</th>\n",
       "      <td>1MTo3SgE3EM6SJcJ1T61fRsJDioBL4X472</td>\n",
       "    </tr>\n",
       "    <tr>\n",
       "      <th>22</th>\n",
       "      <td>13uxfFhAreByjXZMmfJviJvYuHdemPk7YF</td>\n",
       "    </tr>\n",
       "    <tr>\n",
       "      <th>23</th>\n",
       "      <td>1MQAajQymh14msdWQcoe68fQL8nweCLzXp</td>\n",
       "    </tr>\n",
       "    <tr>\n",
       "      <th>24</th>\n",
       "      <td>1C1gQUNYpqzYT85u6A37RNZArnwtvaSi1w</td>\n",
       "    </tr>\n",
       "    <tr>\n",
       "      <th>25</th>\n",
       "      <td>15eoPK2mKRdMdMkPEAftN1R9ZqeisBqhps</td>\n",
       "    </tr>\n",
       "    <tr>\n",
       "      <th>26</th>\n",
       "      <td>3NJbgRCNLEGzFdLpW6w6cKcXz6uvSwTYYb</td>\n",
       "    </tr>\n",
       "    <tr>\n",
       "      <th>27</th>\n",
       "      <td>33fbuZMwiXUhANdTP5T8uNJgp6XQE25Nmn</td>\n",
       "    </tr>\n",
       "    <tr>\n",
       "      <th>28</th>\n",
       "      <td>19s3sY9QWESZvNYHm7d167RigYw1grexvU</td>\n",
       "    </tr>\n",
       "    <tr>\n",
       "      <th>29</th>\n",
       "      <td>1NbQtghtK4tMMRMjG8x6JDdCtkLLCNZ9CT</td>\n",
       "    </tr>\n",
       "    <tr>\n",
       "      <th>...</th>\n",
       "      <td>...</td>\n",
       "    </tr>\n",
       "    <tr>\n",
       "      <th>3295</th>\n",
       "      <td>1MZ9yVuPpFdMZFixYyfTrNFd3BjAKTo25d</td>\n",
       "    </tr>\n",
       "    <tr>\n",
       "      <th>3296</th>\n",
       "      <td>1HZiF7eaPYALcmjoRaA14DDoMfEMt2vfdx</td>\n",
       "    </tr>\n",
       "    <tr>\n",
       "      <th>3297</th>\n",
       "      <td>19RBREGgUGYjHtgZDJ32YjdpvzgNZCmGEB</td>\n",
       "    </tr>\n",
       "    <tr>\n",
       "      <th>3298</th>\n",
       "      <td>1PH3PiGfTkLDKuLaRDsaFPqQHSZm6qhpKT</td>\n",
       "    </tr>\n",
       "    <tr>\n",
       "      <th>3299</th>\n",
       "      <td>1CRFZpwNpcdyJQc4WCFNezczPdgneukZei</td>\n",
       "    </tr>\n",
       "    <tr>\n",
       "      <th>3300</th>\n",
       "      <td>19qDW7TjPfJTjaFbdXWoJh6PS6cpYJZt93</td>\n",
       "    </tr>\n",
       "    <tr>\n",
       "      <th>3301</th>\n",
       "      <td>12DEpd9YPkC4n4WCsbpyMgZvTEDUtKkdHt</td>\n",
       "    </tr>\n",
       "    <tr>\n",
       "      <th>3302</th>\n",
       "      <td>34H9CHLjCQtaqzAy8rPDruV9aBsN5muLnH</td>\n",
       "    </tr>\n",
       "    <tr>\n",
       "      <th>3303</th>\n",
       "      <td>1DJUasQgxWAf6845gh159mMHDqLAGWfNZr</td>\n",
       "    </tr>\n",
       "    <tr>\n",
       "      <th>3304</th>\n",
       "      <td>1LPcC9L8fMJTwWoRvkCAF5W8G1B23gwxiV</td>\n",
       "    </tr>\n",
       "    <tr>\n",
       "      <th>3305</th>\n",
       "      <td>14pcQCMwE1CqkuQDndMsdWNkREXt7qcCd2</td>\n",
       "    </tr>\n",
       "    <tr>\n",
       "      <th>3306</th>\n",
       "      <td>3Ed6d7c7wzvXPGYCfWp1qaLPHhcsmbu6eg</td>\n",
       "    </tr>\n",
       "    <tr>\n",
       "      <th>3307</th>\n",
       "      <td>1CkZ5kWEwjwHssubCPBunaYxFkcttH7beR</td>\n",
       "    </tr>\n",
       "    <tr>\n",
       "      <th>3308</th>\n",
       "      <td>35ryzvKpqTxNDppvvc4sgGLaTpaQuCtar5</td>\n",
       "    </tr>\n",
       "    <tr>\n",
       "      <th>3309</th>\n",
       "      <td>1ECZS4rpgKxUqH7iC4MH1aYKJBMNvQBsiF</td>\n",
       "    </tr>\n",
       "    <tr>\n",
       "      <th>3310</th>\n",
       "      <td>1EvE9YQh5QCt8ZoUuFWFWjFsG4Lkuw6uxz</td>\n",
       "    </tr>\n",
       "    <tr>\n",
       "      <th>3311</th>\n",
       "      <td>1NCisHeAouP9DVsG2RGifqgH17uqM6rRqf</td>\n",
       "    </tr>\n",
       "    <tr>\n",
       "      <th>3312</th>\n",
       "      <td>1E5XMWQtyYnCY4LkLnjMtqBMQNnC1KS3m3</td>\n",
       "    </tr>\n",
       "    <tr>\n",
       "      <th>3313</th>\n",
       "      <td>3GuGTi6ZckQx7iWVH2z2FgfFdCmG39zjy6</td>\n",
       "    </tr>\n",
       "    <tr>\n",
       "      <th>3314</th>\n",
       "      <td>1G9XG7KT2hPCTkH69KfndGVc8dkrpfCGC6</td>\n",
       "    </tr>\n",
       "    <tr>\n",
       "      <th>3315</th>\n",
       "      <td>1BY7xmruvVJjDZ7XjNQZPqKAJuPqBfmdSo</td>\n",
       "    </tr>\n",
       "    <tr>\n",
       "      <th>3316</th>\n",
       "      <td>19V6v166NwTz1R9RhZ7tW65tNJUBhhE3vS</td>\n",
       "    </tr>\n",
       "    <tr>\n",
       "      <th>3317</th>\n",
       "      <td>3HejL2NAfupyabwnvTV4cNgRz6wwQLbtot</td>\n",
       "    </tr>\n",
       "    <tr>\n",
       "      <th>3318</th>\n",
       "      <td>1EaZ8BNXVn43LNViVN4bbf3VKSxZApd9Sg</td>\n",
       "    </tr>\n",
       "    <tr>\n",
       "      <th>3319</th>\n",
       "      <td>38eVnYugAbVn2ESb3GpTkV4rDfbzM3kH95</td>\n",
       "    </tr>\n",
       "    <tr>\n",
       "      <th>3320</th>\n",
       "      <td>1LSam41FdwF6KEgrdNLT7hYhqUAK4gEXpP</td>\n",
       "    </tr>\n",
       "    <tr>\n",
       "      <th>3321</th>\n",
       "      <td>UXP49bXKNTu2BSDocK3nS9bvUbubQXs3</td>\n",
       "    </tr>\n",
       "    <tr>\n",
       "      <th>3322</th>\n",
       "      <td>135Qe6NAXERLMrvPnFNbRFUdj6drBDAjAZ</td>\n",
       "    </tr>\n",
       "    <tr>\n",
       "      <th>3323</th>\n",
       "      <td>1Q4Ehq811VbuiHHuMXPtY3E7z2ttXcFqBf</td>\n",
       "    </tr>\n",
       "    <tr>\n",
       "      <th>3324</th>\n",
       "      <td>5egBgmh3bD3BBophVT25gEFPySAiVZ3Ke</td>\n",
       "    </tr>\n",
       "  </tbody>\n",
       "</table>\n",
       "<p>3325 rows × 1 columns</p>\n",
       "</div>"
      ],
      "text/plain": [
       "                                     key\n",
       "0     1Pq7t8mGwR9X7P2q1gLzpsJ9odu2wkBmgk\n",
       "1     15pY2U8WBZBJRVxGhh8WRXsdkXQbMKD8k9\n",
       "2     15qfZoJNVyhZPUpBzwB5nMctkF39WPGaNL\n",
       "3      1KRaa1YfDgZfCqHPJBkYmTNZ478zXNxuG\n",
       "4     1EvPDEGNwWwmPh7Vjf8ronLrhxfKE9y3qo\n",
       "5     1AHKTCF9pofAUs2WKmV28U1g5Zt6yW4HsX\n",
       "6     196rmNRAWQTFs4uftwcT35UeoZZgY7V4WN\n",
       "7     1L169s9Wv3LXYYpdoJJDDj4sGKURd7gwNZ\n",
       "8      1o7G7bVR9zPF7v4z9HFFL2wcpFZ6CDCQY\n",
       "9     19Zg5K8AEX2bctwpvhbBrJGY3pA1G4Vzzi\n",
       "10    153K4fcAFxvmSaDVLM3C3ZTFq3syKRefJT\n",
       "11    1D5n46UJYgAQgx2y8qUvzqZ1vQYCUZQZ5E\n",
       "12    1Php8sSnN23b8yB2LeofiF9d7exCQMRofF\n",
       "13    1LbAUcqtZ2pRDguJ9J4tfEN9g5p9wyPdKv\n",
       "14    15tBzLEf2rMpPZt173nRvNNDmBFKf7KHLk\n",
       "15    1Mq1LwDywpGDyyBc8EPwY4ZtF5r6aZFyB2\n",
       "16    1QBHcpX8AweM8SFmzz5b5sahCf6GohssW1\n",
       "17    1LL1JM5zPyUGSEx8zuihapmr6Uj4F63qdy\n",
       "18    1Q4tbmD7xGqUUD7ed6PsVEP3FppsbJLjdK\n",
       "19    125dxEBuAwfo5CaR7vjTDCdQ2UMUgWzZ3S\n",
       "20    1NLLX6yosmGoWM5G44YFzQF9W1bkMZT6XN\n",
       "21    1MTo3SgE3EM6SJcJ1T61fRsJDioBL4X472\n",
       "22    13uxfFhAreByjXZMmfJviJvYuHdemPk7YF\n",
       "23    1MQAajQymh14msdWQcoe68fQL8nweCLzXp\n",
       "24    1C1gQUNYpqzYT85u6A37RNZArnwtvaSi1w\n",
       "25    15eoPK2mKRdMdMkPEAftN1R9ZqeisBqhps\n",
       "26    3NJbgRCNLEGzFdLpW6w6cKcXz6uvSwTYYb\n",
       "27    33fbuZMwiXUhANdTP5T8uNJgp6XQE25Nmn\n",
       "28    19s3sY9QWESZvNYHm7d167RigYw1grexvU\n",
       "29    1NbQtghtK4tMMRMjG8x6JDdCtkLLCNZ9CT\n",
       "...                                  ...\n",
       "3295  1MZ9yVuPpFdMZFixYyfTrNFd3BjAKTo25d\n",
       "3296  1HZiF7eaPYALcmjoRaA14DDoMfEMt2vfdx\n",
       "3297  19RBREGgUGYjHtgZDJ32YjdpvzgNZCmGEB\n",
       "3298  1PH3PiGfTkLDKuLaRDsaFPqQHSZm6qhpKT\n",
       "3299  1CRFZpwNpcdyJQc4WCFNezczPdgneukZei\n",
       "3300  19qDW7TjPfJTjaFbdXWoJh6PS6cpYJZt93\n",
       "3301  12DEpd9YPkC4n4WCsbpyMgZvTEDUtKkdHt\n",
       "3302  34H9CHLjCQtaqzAy8rPDruV9aBsN5muLnH\n",
       "3303  1DJUasQgxWAf6845gh159mMHDqLAGWfNZr\n",
       "3304  1LPcC9L8fMJTwWoRvkCAF5W8G1B23gwxiV\n",
       "3305  14pcQCMwE1CqkuQDndMsdWNkREXt7qcCd2\n",
       "3306  3Ed6d7c7wzvXPGYCfWp1qaLPHhcsmbu6eg\n",
       "3307  1CkZ5kWEwjwHssubCPBunaYxFkcttH7beR\n",
       "3308  35ryzvKpqTxNDppvvc4sgGLaTpaQuCtar5\n",
       "3309  1ECZS4rpgKxUqH7iC4MH1aYKJBMNvQBsiF\n",
       "3310  1EvE9YQh5QCt8ZoUuFWFWjFsG4Lkuw6uxz\n",
       "3311  1NCisHeAouP9DVsG2RGifqgH17uqM6rRqf\n",
       "3312  1E5XMWQtyYnCY4LkLnjMtqBMQNnC1KS3m3\n",
       "3313  3GuGTi6ZckQx7iWVH2z2FgfFdCmG39zjy6\n",
       "3314  1G9XG7KT2hPCTkH69KfndGVc8dkrpfCGC6\n",
       "3315  1BY7xmruvVJjDZ7XjNQZPqKAJuPqBfmdSo\n",
       "3316  19V6v166NwTz1R9RhZ7tW65tNJUBhhE3vS\n",
       "3317  3HejL2NAfupyabwnvTV4cNgRz6wwQLbtot\n",
       "3318  1EaZ8BNXVn43LNViVN4bbf3VKSxZApd9Sg\n",
       "3319  38eVnYugAbVn2ESb3GpTkV4rDfbzM3kH95\n",
       "3320  1LSam41FdwF6KEgrdNLT7hYhqUAK4gEXpP\n",
       "3321    UXP49bXKNTu2BSDocK3nS9bvUbubQXs3\n",
       "3322  135Qe6NAXERLMrvPnFNbRFUdj6drBDAjAZ\n",
       "3323  1Q4Ehq811VbuiHHuMXPtY3E7z2ttXcFqBf\n",
       "3324   5egBgmh3bD3BBophVT25gEFPySAiVZ3Ke\n",
       "\n",
       "[3325 rows x 1 columns]"
      ]
     },
     "execution_count": 4,
     "metadata": {},
     "output_type": "execute_result"
    }
   ],
   "source": [
    "keys"
   ]
  },
  {
   "cell_type": "code",
   "execution_count": 5,
   "metadata": {},
   "outputs": [
    {
     "name": "stderr",
     "output_type": "stream",
     "text": [
      "/usr/local/lib/python3.7/site-packages/ipykernel_launcher.py:1: FutureWarning: Method .as_matrix will be removed in a future version. Use .values instead.\n",
      "  \"\"\"Entry point for launching an IPython kernel.\n"
     ]
    }
   ],
   "source": [
    "tab_keys = keys.as_matrix()"
   ]
  },
  {
   "cell_type": "code",
   "execution_count": 6,
   "metadata": {},
   "outputs": [
    {
     "data": {
      "text/plain": [
       "array(['1Pq7t8mGwR9X7P2q1gLzpsJ9odu2wkBmgk'], dtype=object)"
      ]
     },
     "execution_count": 6,
     "metadata": {},
     "output_type": "execute_result"
    }
   ],
   "source": [
    "tab_keys[0]"
   ]
  },
  {
   "cell_type": "code",
   "execution_count": 7,
   "metadata": {},
   "outputs": [],
   "source": [
    "s1 = \"test\"\n",
    "s2 = \"word\""
   ]
  },
  {
   "cell_type": "code",
   "execution_count": 8,
   "metadata": {},
   "outputs": [],
   "source": [
    "s1 = s1 + s2"
   ]
  },
  {
   "cell_type": "code",
   "execution_count": 9,
   "metadata": {},
   "outputs": [
    {
     "name": "stdout",
     "output_type": "stream",
     "text": [
      "testword\n"
     ]
    }
   ],
   "source": [
    "print(s1)"
   ]
  },
  {
   "cell_type": "code",
   "execution_count": 2,
   "metadata": {},
   "outputs": [],
   "source": [
    "link = \"https://www.bitcoinabuse.com/reports/\"\n",
    "def extend_text(value):\n",
    "    value2 = link + value\n",
    "    return value2"
   ]
  },
  {
   "cell_type": "code",
   "execution_count": 11,
   "metadata": {},
   "outputs": [
    {
     "name": "stderr",
     "output_type": "stream",
     "text": [
      "/usr/local/lib/python3.7/site-packages/ipykernel_launcher.py:1: FutureWarning: Method .as_matrix will be removed in a future version. Use .values instead.\n",
      "  \"\"\"Entry point for launching an IPython kernel.\n"
     ]
    }
   ],
   "source": [
    "tab_keys = keys.as_matrix()"
   ]
  },
  {
   "cell_type": "code",
   "execution_count": 12,
   "metadata": {},
   "outputs": [],
   "source": [
    "for i in range(len(tab_keys)):\n",
    "    tab_keys[i] = extend_text(tab_keys[i])"
   ]
  },
  {
   "cell_type": "code",
   "execution_count": 16,
   "metadata": {},
   "outputs": [
    {
     "name": "stdout",
     "output_type": "stream",
     "text": [
      "https://www.bitcoinabuse.com/reports/1Pq7t8mGwR9X7P2q1gLzpsJ9odu2wkBmgk\n"
     ]
    }
   ],
   "source": [
    "print(tab_keys[0][0])"
   ]
  },
  {
   "cell_type": "code",
   "execution_count": 18,
   "metadata": {},
   "outputs": [],
   "source": [
    "list = []"
   ]
  },
  {
   "cell_type": "code",
   "execution_count": 19,
   "metadata": {},
   "outputs": [],
   "source": [
    "for i in range(len(tab_keys)):\n",
    "    list.append(tab_keys[i][0])"
   ]
  },
  {
   "cell_type": "code",
   "execution_count": 21,
   "metadata": {},
   "outputs": [
    {
     "name": "stdout",
     "output_type": "stream",
     "text": [
      "https://www.bitcoinabuse.com/reports/15pY2U8WBZBJRVxGhh8WRXsdkXQbMKD8k9\n",
      "https://www.bitcoinabuse.com/reports/15qfZoJNVyhZPUpBzwB5nMctkF39WPGaNL\n",
      "https://www.bitcoinabuse.com/reports/1KRaa1YfDgZfCqHPJBkYmTNZ478zXNxuG\n",
      "https://www.bitcoinabuse.com/reports/1EvPDEGNwWwmPh7Vjf8ronLrhxfKE9y3qo\n"
     ]
    }
   ],
   "source": [
    "for i in range(1,5):\n",
    "    print(list[i])"
   ]
  },
  {
   "cell_type": "code",
   "execution_count": null,
   "metadata": {},
   "outputs": [],
   "source": []
  }
 ],
 "metadata": {
  "kernelspec": {
   "display_name": "Python 3",
   "language": "python",
   "name": "python3"
  },
  "language_info": {
   "codemirror_mode": {
    "name": "ipython",
    "version": 3
   },
   "file_extension": ".py",
   "mimetype": "text/x-python",
   "name": "python",
   "nbconvert_exporter": "python",
   "pygments_lexer": "ipython3",
   "version": "3.7.3"
  }
 },
 "nbformat": 4,
 "nbformat_minor": 2
}
